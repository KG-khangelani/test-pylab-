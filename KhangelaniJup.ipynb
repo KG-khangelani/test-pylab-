{
 "cells": [
  {
   "cell_type": "code",
   "execution_count": 1,
   "id": "9fbfebd4",
   "metadata": {},
   "outputs": [
    {
     "name": "stdout",
     "output_type": "stream",
     "text": [
      "24 26\n"
     ]
    }
   ],
   "source": [
    "siya =  24\n",
    "khangelani = 26\n",
    "\n",
    "print(siya, khangelani)"
   ]
  }
 ],
 "metadata": {
  "kernelspec": {
   "display_name": "Python 3 (ipykernel)",
   "language": "python",
   "name": "python3"
  },
  "language_info": {
   "codemirror_mode": {
    "name": "ipython",
    "version": 3
   },
   "file_extension": ".py",
   "mimetype": "text/x-python",
   "name": "python",
   "nbconvert_exporter": "python",
   "pygments_lexer": "ipython3",
   "version": "3.9.6"
  }
 },
 "nbformat": 4,
 "nbformat_minor": 5
}
